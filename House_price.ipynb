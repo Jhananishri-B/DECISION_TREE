{
 "cells": [
  {
   "cell_type": "code",
   "execution_count": 102,
   "id": "ccf87ace-c7c8-4b19-85e4-9acc74270029",
   "metadata": {},
   "outputs": [],
   "source": [
    "import pandas as pd\n",
    "import numpy as np\n",
    "import matplotlib.pyplot as plt\n",
    "import seaborn as sns\n",
    "from sklearn.model_selection import train_test_split\n",
    "from sklearn.tree import DecisionTreeClassifier\n",
    "from sklearn.metrics import accuracy_score, confusion_matrix\n",
    "from sklearn.preprocessing import StandardScaler, OneHotEncoder\n",
    "from sklearn.compose import ColumnTransformer\n",
    "from sklearn.pipeline import Pipeline\n",
    "\n",
    "df=pd.read_csv(\"C:/Users/JHANANISHRI/Downloads/house_price_tree.csv\")"
   ]
  },
  {
   "cell_type": "markdown",
   "id": "ca30a8d5-1173-4487-8015-e4cbd9e972f0",
   "metadata": {},
   "source": [
    "                                            DATA PREPROCESSING"
   ]
  },
  {
   "cell_type": "code",
   "execution_count": 103,
   "id": "6a84dc43-81ea-4015-bc77-d0a2b21b86e3",
   "metadata": {},
   "outputs": [
    {
     "name": "stdout",
     "output_type": "stream",
     "text": [
      "<class 'pandas.core.frame.DataFrame'>\n",
      "RangeIndex: 150 entries, 0 to 149\n",
      "Data columns (total 4 columns):\n",
      " #   Column          Non-Null Count  Dtype  \n",
      "---  ------          --------------  -----  \n",
      " 0   size_m2         150 non-null    float64\n",
      " 1   bedrooms        150 non-null    int64  \n",
      " 2   location_score  150 non-null    float64\n",
      " 3   price_category  150 non-null    object \n",
      "dtypes: float64(2), int64(1), object(1)\n",
      "memory usage: 4.8+ KB\n",
      "None\n"
     ]
    }
   ],
   "source": [
    "print(df.info())"
   ]
  },
  {
   "cell_type": "code",
   "execution_count": 105,
   "id": "9f450cdc-0dd1-458d-8fc9-7aa9d8e3e081",
   "metadata": {},
   "outputs": [
    {
     "name": "stdout",
     "output_type": "stream",
     "text": [
      "          size_m2    bedrooms  location_score\n",
      "count  150.000000  150.000000      150.000000\n",
      "mean   119.323333    3.126667        5.250667\n",
      "std     45.110679    1.396528        2.475023\n",
      "min     40.500000    1.000000        1.100000\n",
      "25%     80.300000    2.000000        3.200000\n",
      "50%    121.000000    3.000000        5.100000\n",
      "75%    156.725000    4.000000        7.200000\n",
      "max    198.900000    5.000000        9.900000\n"
     ]
    }
   ],
   "source": [
    "print(df.describe())\n"
   ]
  },
  {
   "cell_type": "code",
   "execution_count": 106,
   "id": "bbadb211-a71b-475b-a4ad-e3feb6975ba3",
   "metadata": {},
   "outputs": [
    {
     "data": {
      "text/plain": [
       "size_m2           0\n",
       "bedrooms          0\n",
       "location_score    0\n",
       "price_category    0\n",
       "dtype: int64"
      ]
     },
     "execution_count": 106,
     "metadata": {},
     "output_type": "execute_result"
    }
   ],
   "source": [
    "df.isnull().sum()"
   ]
  },
  {
   "cell_type": "code",
   "execution_count": 107,
   "id": "c6580281-998e-4e44-a896-a4d593a1b815",
   "metadata": {},
   "outputs": [
    {
     "data": {
      "text/plain": [
       "Index(['size_m2', 'bedrooms', 'location_score', 'price_category'], dtype='object')"
      ]
     },
     "execution_count": 107,
     "metadata": {},
     "output_type": "execute_result"
    }
   ],
   "source": [
    "df.columns "
   ]
  },
  {
   "cell_type": "code",
   "execution_count": 108,
   "id": "aa1a6f13-2ecb-4ae9-a47e-3b5190f51337",
   "metadata": {},
   "outputs": [
    {
     "data": {
      "text/plain": [
       "size_m2           float64\n",
       "bedrooms            int64\n",
       "location_score    float64\n",
       "price_category     object\n",
       "dtype: object"
      ]
     },
     "execution_count": 108,
     "metadata": {},
     "output_type": "execute_result"
    }
   ],
   "source": [
    "df.dtypes"
   ]
  },
  {
   "cell_type": "code",
   "execution_count": 109,
   "id": "cc8c8d74-54d4-492a-a244-418af9df23ee",
   "metadata": {},
   "outputs": [
    {
     "data": {
      "text/plain": [
       "<bound method DataFrame.duplicated of      size_m2  bedrooms  location_score price_category\n",
       "0       90.6         5             3.8         Medium\n",
       "1       70.1         2             6.0            Low\n",
       "2      129.1         5             3.7         Medium\n",
       "3      170.8         1             9.0           High\n",
       "4      177.3         5             5.1           High\n",
       "..       ...       ...             ...            ...\n",
       "145    145.7         1             4.4         Medium\n",
       "146     85.1         2             6.6         Medium\n",
       "147    162.8         1             6.2           High\n",
       "148    110.0         5             3.7         Medium\n",
       "149    176.5         3             9.9           High\n",
       "\n",
       "[150 rows x 4 columns]>"
      ]
     },
     "execution_count": 109,
     "metadata": {},
     "output_type": "execute_result"
    }
   ],
   "source": [
    "df.duplicated"
   ]
  },
  {
   "cell_type": "code",
   "execution_count": 110,
   "id": "5b93489d-4883-4989-ba8a-da77a1e71ef2",
   "metadata": {},
   "outputs": [
    {
     "data": {
      "text/html": [
       "<div>\n",
       "<style scoped>\n",
       "    .dataframe tbody tr th:only-of-type {\n",
       "        vertical-align: middle;\n",
       "    }\n",
       "\n",
       "    .dataframe tbody tr th {\n",
       "        vertical-align: top;\n",
       "    }\n",
       "\n",
       "    .dataframe thead th {\n",
       "        text-align: right;\n",
       "    }\n",
       "</style>\n",
       "<table border=\"1\" class=\"dataframe\">\n",
       "  <thead>\n",
       "    <tr style=\"text-align: right;\">\n",
       "      <th></th>\n",
       "      <th>size_m2</th>\n",
       "      <th>bedrooms</th>\n",
       "      <th>location_score</th>\n",
       "      <th>price_category</th>\n",
       "    </tr>\n",
       "  </thead>\n",
       "  <tbody>\n",
       "    <tr>\n",
       "      <th>0</th>\n",
       "      <td>90.6</td>\n",
       "      <td>5</td>\n",
       "      <td>3.8</td>\n",
       "      <td>Medium</td>\n",
       "    </tr>\n",
       "    <tr>\n",
       "      <th>1</th>\n",
       "      <td>70.1</td>\n",
       "      <td>2</td>\n",
       "      <td>6.0</td>\n",
       "      <td>Low</td>\n",
       "    </tr>\n",
       "    <tr>\n",
       "      <th>2</th>\n",
       "      <td>129.1</td>\n",
       "      <td>5</td>\n",
       "      <td>3.7</td>\n",
       "      <td>Medium</td>\n",
       "    </tr>\n",
       "    <tr>\n",
       "      <th>3</th>\n",
       "      <td>170.8</td>\n",
       "      <td>1</td>\n",
       "      <td>9.0</td>\n",
       "      <td>High</td>\n",
       "    </tr>\n",
       "    <tr>\n",
       "      <th>4</th>\n",
       "      <td>177.3</td>\n",
       "      <td>5</td>\n",
       "      <td>5.1</td>\n",
       "      <td>High</td>\n",
       "    </tr>\n",
       "  </tbody>\n",
       "</table>\n",
       "</div>"
      ],
      "text/plain": [
       "   size_m2  bedrooms  location_score price_category\n",
       "0     90.6         5             3.8         Medium\n",
       "1     70.1         2             6.0            Low\n",
       "2    129.1         5             3.7         Medium\n",
       "3    170.8         1             9.0           High\n",
       "4    177.3         5             5.1           High"
      ]
     },
     "execution_count": 110,
     "metadata": {},
     "output_type": "execute_result"
    }
   ],
   "source": [
    "df.head()"
   ]
  },
  {
   "cell_type": "markdown",
   "id": "43a541a9-9aec-4710-831a-92ec33c837f8",
   "metadata": {},
   "source": [
    "                                                          price distibution"
   ]
  },
  {
   "cell_type": "code",
   "execution_count": 111,
   "id": "c00c1674-dc8b-4755-af6e-3fbd090ac189",
   "metadata": {},
   "outputs": [
    {
     "data": {
      "image/png": "[encoded data removed]",
      "text/plain": [
       "<Figure size 640x480 with 1 Axes>"
      ]
     },
     "metadata": {},
     "output_type": "display_data"
    }
   ],
   "source": [
    "sns.histplot(df[\"price_category\"],kde=True)\n",
    "plt.title(\"House Price Distribution\")\n",
    "plt.show()"
   ]
  },
  {
   "cell_type": "markdown",
   "id": "ded59bb7-f85c-4af1-acf4-bad0839f061b",
   "metadata": {},
   "source": [
    "                                                              Training"
   ]
  },
  {
   "cell_type": "code",
   "execution_count": 141,
   "id": "815bbd51-b5e5-40db-abf7-c834b6a80340",
   "metadata": {},
   "outputs": [],
   "source": [
    "X = df.drop(\"price_category\", axis=1)\n",
    "y = df[\"price_category\"]"
   ]
  },
  {
   "cell_type": "code",
   "execution_count": 142,
   "id": "407781c5-5c2d-4644-a4ff-804f9c69363d",
   "metadata": {
    "scrolled": true
   },
   "outputs": [
    {
     "data": {
      "image/png": "[encoded data removed]",
      "text/plain": [
       "<Figure size 640x480 with 1 Axes>"
      ]
     },
     "metadata": {},
     "output_type": "display_data"
    }
   ],
   "source": [
    "sns.scatterplot(x=\"size_m2\", y=\"price_category\", data=df)\n",
    "plt.show()"
   ]
  },
  {
   "cell_type": "code",
   "execution_count": 120,
   "id": "88670478-de29-4744-a588-a004e7449af2",
   "metadata": {},
   "outputs": [],
   "source": [
    "X_train, X_test, y_train, y_test = train_test_split( X, y, test_size=0.2, random_state=42)"
   ]
  },
  {
   "cell_type": "code",
   "execution_count": 121,
   "id": "c619ad7c-827c-4144-837a-7344ae7bea42",
   "metadata": {},
   "outputs": [
    {
     "name": "stdout",
     "output_type": "stream",
     "text": [
      "Accuracy: 0.9\n"
     ]
    }
   ],
   "source": [
    "dt = DecisionTreeClassifier(random_state=42, max_depth=4)\n",
    "dt.fit(X_train, y_train)\n",
    "y_pred = dt.predict(X_test)\n",
    "print(\"Accuracy:\", accuracy_score(y_test, y_pred))"
   ]
  },
  {
   "cell_type": "code",
   "execution_count": 123,
   "id": "87147833-208a-4684-9828-b22e1bcb4286",
   "metadata": {},
   "outputs": [
    {
     "name": "stdout",
     "output_type": "stream",
     "text": [
      "Confusion Matrix\n",
      "  [[ 5  0  0]\n",
      " [ 0 10  1]\n",
      " [ 2  0 12]]\n"
     ]
    }
   ],
   "source": [
    "cm = confusion_matrix(y_test, y_pred)\n",
    "print(\"Confusion Matrix\\n \", cm)"
   ]
  },
  {
   "cell_type": "code",
   "execution_count": 132,
   "id": "4c7f39d5-8fa0-4992-8a0a-e2d747e60ca5",
   "metadata": {},
   "outputs": [
    {
     "name": "stdout",
     "output_type": "stream",
     "text": [
      "Feature Importances:\n",
      "           Feature  Importance\n",
      "0         size_m2         1.0\n",
      "1        bedrooms         0.0\n",
      "2  location_score         0.0\n"
     ]
    }
   ],
   "source": [
    "feature_importances = pd.DataFrame({\"Feature\": X.columns,\"Importance\": dt.feature_importances_}).sort_values(by=\"Importance\", ascending=False)\n",
    "print(\"Feature Importances:\\n\", feature_importances)"
   ]
  },
  {
   "cell_type": "code",
   "execution_count": 139,
   "id": "acf0b2a5-78f2-4a8c-9264-af4c32039031",
   "metadata": {},
   "outputs": [
    {
     "name": "stdout",
     "output_type": "stream",
     "text": [
      "Prediction for (120, 3, 7.5): Medium\n"
     ]
    },
    {
     "name": "stderr",
     "output_type": "stream",
     "text": [
      "C:\\Users\\JHANANISHRI\\anaconda3\\Lib\\site-packages\\sklearn\\utils\\validation.py:2739: UserWarning: X does not have valid feature names, but DecisionTreeClassifier was fitted with feature names\n",
      "  warnings.warn(\n"
     ]
    }
   ],
   "source": [
    "sample_input = [[120, 3, 7.5]]\n",
    "print(\"Prediction for (120, 3, 7.5):\", dt.predict(sample_input)[0])"
   ]
  },
  {
   "cell_type": "code",
   "execution_count": 140,
   "id": "ba23d17e-0be1-4668-9c82-76df3185f59a",
   "metadata": {},
   "outputs": [
    {
     "name": "stdout",
     "output_type": "stream",
     "text": [
      "Mean Squared Error: 0.3\n",
      "Mean Absolute Error: 0.16666666666666666\n",
      "R2 Score: 0.4478527607361962\n"
     ]
    }
   ],
   "source": [
    "from sklearn.preprocessing import LabelEncoder\n",
    "from sklearn.metrics import mean_squared_error, r2_score, mean_absolute_error\n",
    "encoder = LabelEncoder()\n",
    "y_test_encoded = encoder.fit_transform(y_test)\n",
    "y_pred_encoded = encoder.transform(y_pred)\n",
    "print(\"Mean Squared Error:\", mean_squared_error(y_test_encoded, y_pred_encoded))\n",
    "print(\"Mean Absolute Error:\", mean_absolute_error(y_test_encoded, y_pred_encoded))\n",
    "print(\"R2 Score:\", r2_score(y_test_encoded, y_pred_encoded))"
   ]
  },
  {
   "cell_type": "code",
   "execution_count": 4,
   "id": "5e61f701-ee9a-4d4d-a18d-01a7ffd7d0bb",
   "metadata": {},
   "outputs": [],
   "source": [
    "#import pickle\n",
    "#with open(\"house_price_model.pkl\", \"wb\") as f:\n",
    "    #pickle.dump(model,f)"
   ]
  }
 ],
 "metadata": {
  "kernelspec": {
   "display_name": "base",
   "language": "python",
   "name": "python3"
  },
  "language_info": {
   "codemirror_mode": {
    "name": "ipython",
    "version": 3
   },
   "file_extension": ".py",
   "mimetype": "text/x-python",
   "name": "python",
   "nbconvert_exporter": "python",
   "pygments_lexer": "ipython3",
   "version": "3.13.5"
  }
 },
 "nbformat": 4,
 "nbformat_minor": 5
}
